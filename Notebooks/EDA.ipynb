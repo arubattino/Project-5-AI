{
 "cells": [
  {
   "cell_type": "markdown",
   "metadata": {},
   "source": [
    "# Exploratory Data Analysis"
   ]
  },
  {
   "cell_type": "code",
   "execution_count": 2,
   "metadata": {},
   "outputs": [
    {
     "name": "stdout",
     "output_type": "stream",
     "text": [
      "train:  20856\n",
      "test:  8187\n",
      "val:  4610\n",
      "none:  0\n"
     ]
    }
   ],
   "source": [
    "# Script to bring the videos to my directory. (train, val and test)\n",
    "\n",
    "import os\n",
    "import json\n",
    "\n",
    "def walkdir(folder):\n",
    "    ''' Directories function '''\n",
    "    for dirpath, _, files in os.walk(folder):\n",
    "        for filename in files:\n",
    "            yield (dirpath, filename)\n",
    "\n",
    "\n",
    "# Json file\n",
    "with open('/home/data-proyect/v1_split_trailer.json', 'r') as file:\n",
    "    data = json.load(file)\n",
    "\n",
    "\n",
    "pos = '/home/data-proyect/trailer/'\n",
    "\n",
    "os.makedirs('./../data/train', exist_ok=True)\n",
    "os.makedirs('./../data/val', exist_ok=True)\n",
    "os.makedirs('./../data/test', exist_ok=True)\n",
    "\n",
    "# Counters\n",
    "c_train = 0\n",
    "c_test = 0\n",
    "c_val = 0\n",
    "none = 0\n",
    "\n",
    "# ---- Main program ----\n",
    "\n",
    "for dir,filename in walkdir(pos):\n",
    "    folder = (dir[len(dir)-9:len(dir)])\n",
    "    if folder in data['train']:\n",
    "        c_train = c_train+1\n",
    "        src = os.path.join(pos, folder + \"/\" + filename)\n",
    "        os.makedirs('./../data/train/' + folder, exist_ok=True)\n",
    "        os.link(src, os.path.join('./../data/train/', folder + \"/\" + filename))\n",
    "    elif folder in data['test']:\n",
    "        c_test = c_test + 1\n",
    "        src = os.path.join(pos, folder + \"/\" + filename)\n",
    "        os.makedirs('./../data/test/' + folder, exist_ok=True)\n",
    "        os.link(src, os.path.join('./../data/test/', folder + \"/\" + filename))\n",
    "    elif folder in data['val']:\n",
    "        c_val = c_val + 1\n",
    "        src = os.path.join(pos, folder + \"/\" + filename)\n",
    "        os.makedirs('./../data/val/' + folder, exist_ok=True)\n",
    "        os.link(src, os.path.join('./../data/val/', folder + \"/\" + filename))\n",
    "    else:\n",
    "        pass\n",
    "\n",
    "\n",
    "# Returns the number of folders for each assignment    \n",
    "print('train: ',c_train)\n",
    "print('test: ',c_test)\n",
    "print('val: ',c_val)\n",
    "print('none: ',none)"
   ]
  },
  {
   "cell_type": "code",
   "execution_count": 15,
   "metadata": {},
   "outputs": [
    {
     "name": "stderr",
     "output_type": "stream",
     "text": [
      "Sub-p: 100%|██████████| 4834/4834 [07:57<00:00, 10.13it/s]\n",
      "Sub-p: 100%|██████████| 1062/1062 [02:03<00:00,  8.60it/s]\n",
      "Sub-p: 100%|██████████| 1952/1952 [03:52<00:00,  8.39it/s]\n",
      "Total: 100%|██████████| 3/3 [13:53<00:00, 277.81s/it]\n"
     ]
    }
   ],
   "source": [
    "import pandas as pd\n",
    "import json\n",
    "import cv2\n",
    "from tqdm import tqdm\n",
    "import os\n",
    "\n",
    "\n",
    "with open('/home/data-proyect/v1_split_trailer.json', 'r') as file:\n",
    "    data = json.load(file)\n",
    "\n",
    "dfs = pd.DataFrame()\n",
    "\n",
    "dfs['assignment'],\n",
    "dfs['video'],dfs['scene'], \n",
    "dfs['scale_label'],\n",
    "dfs['scale_value'], \n",
    "dfs['movement_label'], \n",
    "dfs['movement_value'], \n",
    "dfs['frames'], \n",
    "dfs['time(s)'], \n",
    "dfs['size(MB)'], \n",
    "dfs['dir'] = None, None, None, None, None, None, None, None, None, None, None\n",
    "\n",
    "\n",
    "for j in tqdm(data, desc='Total'):\n",
    "    for i in tqdm(data[j], desc='Sub-p'):\n",
    "        \n",
    "        for k in data[j][i]:\n",
    "            \n",
    "            d_scale_label = data[j][i][k]['scale']['label']\n",
    "            \n",
    "            d_scale_value = data[j][i][k]['scale']['value']\n",
    "            \n",
    "            d_movement_label = data[j][i][k]['movement']['label']\n",
    "            \n",
    "            d_movement_value = data[j][i][k]['movement']['value']\n",
    "            \n",
    "            mov = cv2.VideoCapture('./../data/' + j + '/' + i + '/shot_' + k + '.mp4')\n",
    "            \n",
    "            frames = mov.get(cv2.CAP_PROP_FRAME_COUNT) \n",
    "            fps = float(mov.get(cv2.CAP_PROP_FPS)) \n",
    "            seconds = f\"{float(frames / fps):.02f}\"\n",
    "            \n",
    "            length = int(mov.get(cv2.CAP_PROP_FRAME_COUNT))\n",
    "            \n",
    "            file_size = os.path.getsize(r'./../data/' + j + '/' + i + '/shot_' + k + '.mp4') \n",
    "            file_size = (f'{file_size/1048576:.02f}')\n",
    "\n",
    "            dirr = './../data/' + j + '/' + i + '/shot_' + k + '.mp4'\n",
    "\n",
    "            datev = {'assignment':j, \n",
    "                     'video':i, \n",
    "                     'scene':k, \n",
    "                     'scale_label':d_scale_label, \n",
    "                     'scale_value':d_scale_value, \n",
    "                     'movement_label':d_movement_label, \n",
    "                     'movement_value':d_movement_value,\n",
    "                     'frames':length,\n",
    "                     'time(s)':seconds,\n",
    "                     'size(MB)':file_size,\n",
    "                     'dir':dirr,\n",
    "                    }\n",
    "                     \n",
    "            dfs = dfs.append(datev, ignore_index=True)\n",
    "\n",
    "dfs.to_csv('dataset_video.csv', index=False)"
   ]
  },
  {
   "cell_type": "code",
   "execution_count": 16,
   "metadata": {},
   "outputs": [
    {
     "data": {
      "text/html": [
       "<div>\n",
       "<style scoped>\n",
       "    .dataframe tbody tr th:only-of-type {\n",
       "        vertical-align: middle;\n",
       "    }\n",
       "\n",
       "    .dataframe tbody tr th {\n",
       "        vertical-align: top;\n",
       "    }\n",
       "\n",
       "    .dataframe thead th {\n",
       "        text-align: right;\n",
       "    }\n",
       "</style>\n",
       "<table border=\"1\" class=\"dataframe\">\n",
       "  <thead>\n",
       "    <tr style=\"text-align: right;\">\n",
       "      <th></th>\n",
       "      <th>assignment</th>\n",
       "      <th>video</th>\n",
       "      <th>scene</th>\n",
       "      <th>scale_label</th>\n",
       "      <th>scale_value</th>\n",
       "      <th>movement_label</th>\n",
       "      <th>movement_value</th>\n",
       "      <th>frames</th>\n",
       "      <th>time(s)</th>\n",
       "      <th>size(MB)</th>\n",
       "      <th>dir</th>\n",
       "    </tr>\n",
       "  </thead>\n",
       "  <tbody>\n",
       "    <tr>\n",
       "      <th>0</th>\n",
       "      <td>train</td>\n",
       "      <td>tt0444850</td>\n",
       "      <td>0014</td>\n",
       "      <td>CS</td>\n",
       "      <td>1</td>\n",
       "      <td>Static</td>\n",
       "      <td>4</td>\n",
       "      <td>53</td>\n",
       "      <td>2.21</td>\n",
       "      <td>0.52</td>\n",
       "      <td>./../data/train/tt0444850/shot_0014.mp4</td>\n",
       "    </tr>\n",
       "    <tr>\n",
       "      <th>1</th>\n",
       "      <td>train</td>\n",
       "      <td>tt0444850</td>\n",
       "      <td>0015</td>\n",
       "      <td>CS</td>\n",
       "      <td>1</td>\n",
       "      <td>Static</td>\n",
       "      <td>4</td>\n",
       "      <td>45</td>\n",
       "      <td>1.88</td>\n",
       "      <td>0.63</td>\n",
       "      <td>./../data/train/tt0444850/shot_0015.mp4</td>\n",
       "    </tr>\n",
       "    <tr>\n",
       "      <th>2</th>\n",
       "      <td>train</td>\n",
       "      <td>tt0444850</td>\n",
       "      <td>0016</td>\n",
       "      <td>ECS</td>\n",
       "      <td>0</td>\n",
       "      <td>Static</td>\n",
       "      <td>4</td>\n",
       "      <td>24</td>\n",
       "      <td>1.00</td>\n",
       "      <td>0.23</td>\n",
       "      <td>./../data/train/tt0444850/shot_0016.mp4</td>\n",
       "    </tr>\n",
       "    <tr>\n",
       "      <th>3</th>\n",
       "      <td>train</td>\n",
       "      <td>tt2005173</td>\n",
       "      <td>0002</td>\n",
       "      <td>MS</td>\n",
       "      <td>2</td>\n",
       "      <td>Static</td>\n",
       "      <td>4</td>\n",
       "      <td>22</td>\n",
       "      <td>0.88</td>\n",
       "      <td>0.31</td>\n",
       "      <td>./../data/train/tt2005173/shot_0002.mp4</td>\n",
       "    </tr>\n",
       "    <tr>\n",
       "      <th>4</th>\n",
       "      <td>train</td>\n",
       "      <td>tt2005173</td>\n",
       "      <td>0014</td>\n",
       "      <td>CS</td>\n",
       "      <td>1</td>\n",
       "      <td>Static</td>\n",
       "      <td>4</td>\n",
       "      <td>22</td>\n",
       "      <td>0.88</td>\n",
       "      <td>0.16</td>\n",
       "      <td>./../data/train/tt2005173/shot_0014.mp4</td>\n",
       "    </tr>\n",
       "    <tr>\n",
       "      <th>...</th>\n",
       "      <td>...</td>\n",
       "      <td>...</td>\n",
       "      <td>...</td>\n",
       "      <td>...</td>\n",
       "      <td>...</td>\n",
       "      <td>...</td>\n",
       "      <td>...</td>\n",
       "      <td>...</td>\n",
       "      <td>...</td>\n",
       "      <td>...</td>\n",
       "      <td>...</td>\n",
       "    </tr>\n",
       "    <tr>\n",
       "      <th>33648</th>\n",
       "      <td>test</td>\n",
       "      <td>tt6644200</td>\n",
       "      <td>0011</td>\n",
       "      <td>FS</td>\n",
       "      <td>3</td>\n",
       "      <td>Static</td>\n",
       "      <td>4</td>\n",
       "      <td>26</td>\n",
       "      <td>1.08</td>\n",
       "      <td>0.23</td>\n",
       "      <td>./../data/test/tt6644200/shot_0011.mp4</td>\n",
       "    </tr>\n",
       "    <tr>\n",
       "      <th>33649</th>\n",
       "      <td>test</td>\n",
       "      <td>tt6644200</td>\n",
       "      <td>0015</td>\n",
       "      <td>MS</td>\n",
       "      <td>2</td>\n",
       "      <td>Motion</td>\n",
       "      <td>0</td>\n",
       "      <td>38</td>\n",
       "      <td>1.58</td>\n",
       "      <td>0.37</td>\n",
       "      <td>./../data/test/tt6644200/shot_0015.mp4</td>\n",
       "    </tr>\n",
       "    <tr>\n",
       "      <th>33650</th>\n",
       "      <td>test</td>\n",
       "      <td>tt6644200</td>\n",
       "      <td>0021</td>\n",
       "      <td>FS</td>\n",
       "      <td>3</td>\n",
       "      <td>Motion</td>\n",
       "      <td>0</td>\n",
       "      <td>47</td>\n",
       "      <td>1.96</td>\n",
       "      <td>0.28</td>\n",
       "      <td>./../data/test/tt6644200/shot_0021.mp4</td>\n",
       "    </tr>\n",
       "    <tr>\n",
       "      <th>33651</th>\n",
       "      <td>test</td>\n",
       "      <td>tt6644200</td>\n",
       "      <td>0026</td>\n",
       "      <td>LS</td>\n",
       "      <td>4</td>\n",
       "      <td>Static</td>\n",
       "      <td>4</td>\n",
       "      <td>28</td>\n",
       "      <td>1.17</td>\n",
       "      <td>0.84</td>\n",
       "      <td>./../data/test/tt6644200/shot_0026.mp4</td>\n",
       "    </tr>\n",
       "    <tr>\n",
       "      <th>33652</th>\n",
       "      <td>test</td>\n",
       "      <td>tt6644200</td>\n",
       "      <td>0042</td>\n",
       "      <td>ECS</td>\n",
       "      <td>0</td>\n",
       "      <td>Static</td>\n",
       "      <td>4</td>\n",
       "      <td>22</td>\n",
       "      <td>0.92</td>\n",
       "      <td>0.20</td>\n",
       "      <td>./../data/test/tt6644200/shot_0042.mp4</td>\n",
       "    </tr>\n",
       "  </tbody>\n",
       "</table>\n",
       "<p>33653 rows × 11 columns</p>\n",
       "</div>"
      ],
      "text/plain": [
       "      assignment      video scene scale_label scale_value movement_label  \\\n",
       "0          train  tt0444850  0014          CS           1         Static   \n",
       "1          train  tt0444850  0015          CS           1         Static   \n",
       "2          train  tt0444850  0016         ECS           0         Static   \n",
       "3          train  tt2005173  0002          MS           2         Static   \n",
       "4          train  tt2005173  0014          CS           1         Static   \n",
       "...          ...        ...   ...         ...         ...            ...   \n",
       "33648       test  tt6644200  0011          FS           3         Static   \n",
       "33649       test  tt6644200  0015          MS           2         Motion   \n",
       "33650       test  tt6644200  0021          FS           3         Motion   \n",
       "33651       test  tt6644200  0026          LS           4         Static   \n",
       "33652       test  tt6644200  0042         ECS           0         Static   \n",
       "\n",
       "      movement_value frames time(s) size(MB)  \\\n",
       "0                  4     53    2.21     0.52   \n",
       "1                  4     45    1.88     0.63   \n",
       "2                  4     24    1.00     0.23   \n",
       "3                  4     22    0.88     0.31   \n",
       "4                  4     22    0.88     0.16   \n",
       "...              ...    ...     ...      ...   \n",
       "33648              4     26    1.08     0.23   \n",
       "33649              0     38    1.58     0.37   \n",
       "33650              0     47    1.96     0.28   \n",
       "33651              4     28    1.17     0.84   \n",
       "33652              4     22    0.92     0.20   \n",
       "\n",
       "                                           dir  \n",
       "0      ./../data/train/tt0444850/shot_0014.mp4  \n",
       "1      ./../data/train/tt0444850/shot_0015.mp4  \n",
       "2      ./../data/train/tt0444850/shot_0016.mp4  \n",
       "3      ./../data/train/tt2005173/shot_0002.mp4  \n",
       "4      ./../data/train/tt2005173/shot_0014.mp4  \n",
       "...                                        ...  \n",
       "33648   ./../data/test/tt6644200/shot_0011.mp4  \n",
       "33649   ./../data/test/tt6644200/shot_0015.mp4  \n",
       "33650   ./../data/test/tt6644200/shot_0021.mp4  \n",
       "33651   ./../data/test/tt6644200/shot_0026.mp4  \n",
       "33652   ./../data/test/tt6644200/shot_0042.mp4  \n",
       "\n",
       "[33653 rows x 11 columns]"
      ]
     },
     "execution_count": 16,
     "metadata": {},
     "output_type": "execute_result"
    }
   ],
   "source": [
    "# Dataset\n",
    "\n",
    "dfs"
   ]
  },
  {
   "cell_type": "markdown",
   "metadata": {},
   "source": [
    "1. long shot (LS) is taken from a long distance, sometimes as far as a quarter of a mile away.\n",
    "\n",
    "\n",
    "2. full shot (FS) barely includes the human body in full.\n",
    "\n",
    "\n",
    "3. medium shot (MS) contains a figure from the knees or waist up.\n",
    "\n",
    "\n",
    "4. close-up shot (CS) concentrates on a relatively small object, showing the face of the hand of a person.\n",
    "\n",
    "\n",
    "5. extreme close-up shot (ECS) shows even smaller parts such as the image of an eye or a mouth.\n",
    "\n"
   ]
  },
  {
   "cell_type": "code",
   "execution_count": 37,
   "metadata": {},
   "outputs": [
    {
     "data": {
      "image/png": "[encoded data removed]",
      "text/plain": [
       "<Figure size 720x432 with 1 Axes>"
      ]
     },
     "metadata": {},
     "output_type": "display_data"
    }
   ],
   "source": [
    "import seaborn as sns\n",
    "import matplotlib.pyplot as plt\n",
    "\n",
    "sns.set_theme(style=\"darkgrid\")\n",
    "fig, ax = plt.subplots(figsize = (10, 6))\n",
    "sns.histplot(dfs, y = dfs['scale_label'], hue = 'scale_label');"
   ]
  },
  {
   "cell_type": "code",
   "execution_count": 38,
   "metadata": {},
   "outputs": [
    {
     "data": {
      "image/png": "[encoded data removed]",
      "text/plain": [
       "<Figure size 720x432 with 1 Axes>"
      ]
     },
     "metadata": {},
     "output_type": "display_data"
    }
   ],
   "source": [
    "import seaborn as sns\n",
    "import matplotlib.pyplot as plt\n",
    "\n",
    "sns.set_theme(style=\"darkgrid\")\n",
    "fig, ax = plt.subplots(figsize = (10, 6))\n",
    "sns.histplot(dfs, y = dfs['movement_label'], hue = 'movement_label');"
   ]
  },
  {
   "cell_type": "markdown",
   "metadata": {},
   "source": [
    "### Multi movement:"
   ]
  },
  {
   "cell_type": "code",
   "execution_count": 3,
   "metadata": {},
   "outputs": [],
   "source": [
    "import pandas as pd\n",
    "\n",
    "dfs = pd.read_csv(\"dataset_video.csv\")"
   ]
  },
  {
   "cell_type": "code",
   "execution_count": 4,
   "metadata": {},
   "outputs": [
    {
     "data": {
      "text/plain": [
       "160"
      ]
     },
     "execution_count": 4,
     "metadata": {},
     "output_type": "execute_result"
    }
   ],
   "source": [
    "# Number of Multi_movement videos\n",
    "\n",
    "mk_mm = dfs['movement_label'] == 'Multi_movement'\n",
    "dfs[mk_mm].shape[0]"
   ]
  },
  {
   "cell_type": "markdown",
   "metadata": {},
   "source": [
    "We need to reverse the order of the frames and then mirror each video. With this technique we will be able to quadruple the data of \"Multi movement\" of which there is very little:"
   ]
  },
  {
   "cell_type": "code",
   "execution_count": 5,
   "metadata": {},
   "outputs": [
    {
     "name": "stdout",
     "output_type": "stream",
     "text": [
      "Movement Value:  3\n"
     ]
    },
    {
     "data": {
      "text/html": [
       "<video src=\"./../data/test/tt5075328/shot_0036.mp4\" controls  width=\"400\"  height=\"300\">\n",
       "      Your browser does not support the <code>video</code> element.\n",
       "    </video>"
      ],
      "text/plain": [
       "<IPython.core.display.Video object>"
      ]
     },
     "execution_count": 5,
     "metadata": {},
     "output_type": "execute_result"
    }
   ],
   "source": [
    "from IPython.display import Video\n",
    "import random\n",
    "num = random.randint(0,dfs[mk_mm].shape[0])\n",
    "fol = (dfs[mk_mm]['dir'].sample(n=1, random_state = num)).iloc[0]\n",
    "print(\"Movement Value: \", dfs[mk_mm]['movement_value'].sample(n=1, random_state = num).iloc[0])\n",
    "\n",
    "Video(fol, width=400, height=300)"
   ]
  },
  {
   "cell_type": "markdown",
   "metadata": {},
   "source": [
    "### Push:"
   ]
  },
  {
   "cell_type": "code",
   "execution_count": 6,
   "metadata": {},
   "outputs": [
    {
     "data": {
      "text/plain": [
       "993"
      ]
     },
     "execution_count": 6,
     "metadata": {},
     "output_type": "execute_result"
    }
   ],
   "source": [
    "# Cantidad de Push\n",
    "\n",
    "mk_ps = dfs['movement_label'] == 'Push'\n",
    "dfs[mk_ps].shape[0]"
   ]
  },
  {
   "cell_type": "code",
   "execution_count": 11,
   "metadata": {},
   "outputs": [
    {
     "name": "stdout",
     "output_type": "stream",
     "text": [
      "Movement Value:  1\n"
     ]
    },
    {
     "data": {
      "text/html": [
       "<video src=\"./../data/train/tt4857062/shot_0011.mp4\" controls  width=\"400\"  height=\"300\">\n",
       "      Your browser does not support the <code>video</code> element.\n",
       "    </video>"
      ],
      "text/plain": [
       "<IPython.core.display.Video object>"
      ]
     },
     "execution_count": 11,
     "metadata": {},
     "output_type": "execute_result"
    }
   ],
   "source": [
    "num = random.randint(0,dfs[mk_ps].shape[0])\n",
    "fol = (dfs[mk_ps]['dir'].sample(n=1, random_state = num)).iloc[0]\n",
    "print(\"Movement Value: \", dfs[mk_ps]['movement_value'].sample(n=1, random_state = num).iloc[0])\n",
    "\n",
    "Video(fol, width=400, height=300)"
   ]
  },
  {
   "cell_type": "markdown",
   "metadata": {},
   "source": [
    "### Pull:"
   ]
  },
  {
   "cell_type": "code",
   "execution_count": 9,
   "metadata": {},
   "outputs": [
    {
     "data": {
      "text/plain": [
       "327"
      ]
     },
     "execution_count": 9,
     "metadata": {},
     "output_type": "execute_result"
    }
   ],
   "source": [
    "# Cantidad de Pull\n",
    "\n",
    "mk_pl = dfs['movement_label'] == 'Pull'\n",
    "dfs[mk_pl].shape[0]"
   ]
  },
  {
   "cell_type": "code",
   "execution_count": 10,
   "metadata": {},
   "outputs": [
    {
     "name": "stdout",
     "output_type": "stream",
     "text": [
      "Movement Value:  2\n"
     ]
    },
    {
     "data": {
      "text/html": [
       "<video src=\"./../data/test/tt3975072/shot_0018.mp4\" controls  width=\"400\"  height=\"300\">\n",
       "      Your browser does not support the <code>video</code> element.\n",
       "    </video>"
      ],
      "text/plain": [
       "<IPython.core.display.Video object>"
      ]
     },
     "execution_count": 10,
     "metadata": {},
     "output_type": "execute_result"
    }
   ],
   "source": [
    "num = random.randint(0,dfs[mk_pl].shape[0])\n",
    "fol = (dfs[mk_pl]['dir'].sample(n=1, random_state = num)).iloc[0]\n",
    "print(\"Movement Value: \", dfs[mk_pl]['movement_value'].sample(n=1, random_state = num).iloc[0])\n",
    "\n",
    "Video(fol, width=400, height=300)"
   ]
  },
  {
   "cell_type": "code",
   "execution_count": 12,
   "metadata": {},
   "outputs": [
    {
     "data": {
      "text/html": [
       "<div>\n",
       "<style scoped>\n",
       "    .dataframe tbody tr th:only-of-type {\n",
       "        vertical-align: middle;\n",
       "    }\n",
       "\n",
       "    .dataframe tbody tr th {\n",
       "        vertical-align: top;\n",
       "    }\n",
       "\n",
       "    .dataframe thead th {\n",
       "        text-align: right;\n",
       "    }\n",
       "</style>\n",
       "<table border=\"1\" class=\"dataframe\">\n",
       "  <thead>\n",
       "    <tr style=\"text-align: right;\">\n",
       "      <th></th>\n",
       "      <th>assignment</th>\n",
       "      <th>video</th>\n",
       "      <th>scene</th>\n",
       "      <th>scale_label</th>\n",
       "      <th>scale_value</th>\n",
       "      <th>movement_label</th>\n",
       "      <th>movement_value</th>\n",
       "      <th>frames</th>\n",
       "      <th>time(s)</th>\n",
       "      <th>size(MB)</th>\n",
       "      <th>dir</th>\n",
       "    </tr>\n",
       "  </thead>\n",
       "  <tbody>\n",
       "    <tr>\n",
       "      <th>1112</th>\n",
       "      <td>train</td>\n",
       "      <td>tt2107865</td>\n",
       "      <td>0</td>\n",
       "      <td>LS</td>\n",
       "      <td>4</td>\n",
       "      <td>Static</td>\n",
       "      <td>4</td>\n",
       "      <td>4</td>\n",
       "      <td>0.13</td>\n",
       "      <td>0.07</td>\n",
       "      <td>./../data/train/tt2107865/shot_0000.mp4</td>\n",
       "    </tr>\n",
       "    <tr>\n",
       "      <th>6283</th>\n",
       "      <td>train</td>\n",
       "      <td>tt2573822</td>\n",
       "      <td>0</td>\n",
       "      <td>ECS</td>\n",
       "      <td>0</td>\n",
       "      <td>Static</td>\n",
       "      <td>4</td>\n",
       "      <td>4</td>\n",
       "      <td>0.16</td>\n",
       "      <td>0.07</td>\n",
       "      <td>./../data/train/tt2573822/shot_0000.mp4</td>\n",
       "    </tr>\n",
       "    <tr>\n",
       "      <th>7826</th>\n",
       "      <td>train</td>\n",
       "      <td>tt2852406</td>\n",
       "      <td>0</td>\n",
       "      <td>FS</td>\n",
       "      <td>3</td>\n",
       "      <td>Static</td>\n",
       "      <td>4</td>\n",
       "      <td>6</td>\n",
       "      <td>0.25</td>\n",
       "      <td>0.05</td>\n",
       "      <td>./../data/train/tt2852406/shot_0000.mp4</td>\n",
       "    </tr>\n",
       "    <tr>\n",
       "      <th>10609</th>\n",
       "      <td>train</td>\n",
       "      <td>tt3289126</td>\n",
       "      <td>0</td>\n",
       "      <td>ECS</td>\n",
       "      <td>0</td>\n",
       "      <td>Static</td>\n",
       "      <td>4</td>\n",
       "      <td>5</td>\n",
       "      <td>0.20</td>\n",
       "      <td>0.03</td>\n",
       "      <td>./../data/train/tt3289126/shot_0000.mp4</td>\n",
       "    </tr>\n",
       "    <tr>\n",
       "      <th>20918</th>\n",
       "      <td>val</td>\n",
       "      <td>tt2056520</td>\n",
       "      <td>0</td>\n",
       "      <td>ECS</td>\n",
       "      <td>0</td>\n",
       "      <td>Static</td>\n",
       "      <td>4</td>\n",
       "      <td>3</td>\n",
       "      <td>0.12</td>\n",
       "      <td>0.02</td>\n",
       "      <td>./../data/val/tt2056520/shot_0000.mp4</td>\n",
       "    </tr>\n",
       "    <tr>\n",
       "      <th>21908</th>\n",
       "      <td>val</td>\n",
       "      <td>tt2402163</td>\n",
       "      <td>0</td>\n",
       "      <td>LS</td>\n",
       "      <td>4</td>\n",
       "      <td>Static</td>\n",
       "      <td>4</td>\n",
       "      <td>3</td>\n",
       "      <td>0.12</td>\n",
       "      <td>0.10</td>\n",
       "      <td>./../data/val/tt2402163/shot_0000.mp4</td>\n",
       "    </tr>\n",
       "    <tr>\n",
       "      <th>23421</th>\n",
       "      <td>val</td>\n",
       "      <td>tt3469284</td>\n",
       "      <td>0</td>\n",
       "      <td>MS</td>\n",
       "      <td>2</td>\n",
       "      <td>Static</td>\n",
       "      <td>4</td>\n",
       "      <td>3</td>\n",
       "      <td>0.13</td>\n",
       "      <td>0.05</td>\n",
       "      <td>./../data/val/tt3469284/shot_0000.mp4</td>\n",
       "    </tr>\n",
       "    <tr>\n",
       "      <th>28293</th>\n",
       "      <td>test</td>\n",
       "      <td>tt2776170</td>\n",
       "      <td>0</td>\n",
       "      <td>LS</td>\n",
       "      <td>4</td>\n",
       "      <td>Static</td>\n",
       "      <td>4</td>\n",
       "      <td>4</td>\n",
       "      <td>0.16</td>\n",
       "      <td>0.20</td>\n",
       "      <td>./../data/test/tt2776170/shot_0000.mp4</td>\n",
       "    </tr>\n",
       "  </tbody>\n",
       "</table>\n",
       "</div>"
      ],
      "text/plain": [
       "      assignment      video  scene scale_label  scale_value movement_label  \\\n",
       "1112       train  tt2107865      0          LS            4         Static   \n",
       "6283       train  tt2573822      0         ECS            0         Static   \n",
       "7826       train  tt2852406      0          FS            3         Static   \n",
       "10609      train  tt3289126      0         ECS            0         Static   \n",
       "20918        val  tt2056520      0         ECS            0         Static   \n",
       "21908        val  tt2402163      0          LS            4         Static   \n",
       "23421        val  tt3469284      0          MS            2         Static   \n",
       "28293       test  tt2776170      0          LS            4         Static   \n",
       "\n",
       "       movement_value  frames  time(s)  size(MB)  \\\n",
       "1112                4       4     0.13      0.07   \n",
       "6283                4       4     0.16      0.07   \n",
       "7826                4       6     0.25      0.05   \n",
       "10609               4       5     0.20      0.03   \n",
       "20918               4       3     0.12      0.02   \n",
       "21908               4       3     0.12      0.10   \n",
       "23421               4       3     0.13      0.05   \n",
       "28293               4       4     0.16      0.20   \n",
       "\n",
       "                                           dir  \n",
       "1112   ./../data/train/tt2107865/shot_0000.mp4  \n",
       "6283   ./../data/train/tt2573822/shot_0000.mp4  \n",
       "7826   ./../data/train/tt2852406/shot_0000.mp4  \n",
       "10609  ./../data/train/tt3289126/shot_0000.mp4  \n",
       "20918    ./../data/val/tt2056520/shot_0000.mp4  \n",
       "21908    ./../data/val/tt2402163/shot_0000.mp4  \n",
       "23421    ./../data/val/tt3469284/shot_0000.mp4  \n",
       "28293   ./../data/test/tt2776170/shot_0000.mp4  "
      ]
     },
     "execution_count": 12,
     "metadata": {},
     "output_type": "execute_result"
    }
   ],
   "source": [
    "# Scenes < 8 frames\n",
    "\n",
    "mk = dfs['frames'] < 8\n",
    "dfs[mk]"
   ]
  },
  {
   "cell_type": "markdown",
   "metadata": {},
   "source": [
    "### Data Analysis Trailer_V2"
   ]
  },
  {
   "cell_type": "code",
   "execution_count": 81,
   "metadata": {},
   "outputs": [
    {
     "name": "stdout",
     "output_type": "stream",
     "text": [
      "files:  606\n"
     ]
    }
   ],
   "source": [
    "# Script to link the files to my trailer_v2 directory - FILES PULL - PUSH\n",
    "\n",
    "import os\n",
    "import json\n",
    "\n",
    "def walkdir(folder):\n",
    "    ''' Directories function '''\n",
    "    for dirpath, _, files in os.walk(folder):\n",
    "        for filename in files:\n",
    "            yield (dirpath, filename)\n",
    "\n",
    "\n",
    "pos = '/home/data-proyect/trailer_v2/'\n",
    "\n",
    "os.makedirs('./../data/pull_push/', exist_ok=True)\n",
    "\n",
    "\n",
    "# Counters\n",
    "c_arch = 0\n",
    "none = 0\n",
    "\n",
    "# ---- Main program ----\n",
    "\n",
    "for dir,filename in walkdir(pos):\n",
    "\n",
    "    folder = dir + \"/\" + filename\n",
    "\n",
    "    string = folder[len(folder)-23:len(folder)-14]\n",
    "\n",
    "    c_arch = c_arch + 1\n",
    "    src = os.path.join(folder)\n",
    "    os.makedirs('./../data/pull_push/' + string, exist_ok=True)\n",
    "    os.link(src, os.path.join('./../data/pull_push/', string + \"/\" + filename))\n",
    "\n",
    "# Returns the number of folders for each assignment  \n",
    "  \n",
    "print('files: ', c_arch)"
   ]
  },
  {
   "cell_type": "code",
   "execution_count": 52,
   "metadata": {},
   "outputs": [
    {
     "data": {
      "text/html": [
       "<video src=\"./../data/pull_push/tt1542344/shot_0055.mp4\" controls  width=\"400\"  height=\"300\">\n",
       "      Your browser does not support the <code>video</code> element.\n",
       "    </video>"
      ],
      "text/plain": [
       "<IPython.core.display.Video object>"
      ]
     },
     "execution_count": 52,
     "metadata": {},
     "output_type": "execute_result"
    }
   ],
   "source": [
    "# Example\n",
    "\n",
    "from IPython.display import Video\n",
    "Video('./../data/pull_push/tt1542344/shot_0055.mp4', width=400, height=300)"
   ]
  },
  {
   "cell_type": "code",
   "execution_count": 1,
   "metadata": {},
   "outputs": [
    {
     "name": "stdout",
     "output_type": "stream",
     "text": [
      "Total files:  606\n"
     ]
    }
   ],
   "source": [
    "# Script for pull and push trailer V2\n",
    "\n",
    "import pandas as pd\n",
    "import os\n",
    "import json\n",
    "\n",
    "def walkdir(folder):\n",
    "    ''' Directories function '''\n",
    "    for dirpath, _, files in os.walk(folder):\n",
    "        for filename in files:\n",
    "            yield (dirpath, filename)\n",
    "\n",
    "\n",
    "with open('/home/data-proyect/v2_full_trailer.json', 'r') as file:\n",
    "    data_v2 = json.load(file)\n",
    "\n",
    "df_pull_push = pd.DataFrame()\n",
    "\n",
    "df_pull_push['dir'], df_pull_push['movement_label'], df_pull_push['movement_value'] = None, None, None\n",
    "\n",
    "count=0\n",
    "fol = r'./../data/pull_push/'\n",
    "\n",
    "for direc, filename in walkdir(fol):\n",
    "    folder=str(direc + \"/\" + filename)[len(str(direc+\"/\"+filename))-23:len(str(direc + \"/\" + filename))-14]\n",
    "    dir_total = direc + \"/\" + filename\n",
    "    scn = filename[5:9]\n",
    "    count += 1\n",
    "    \n",
    "    for mov in data_v2[folder][scn]:\n",
    "  \n",
    "        d_movement_label = data_v2[folder][scn][mov]['label']\n",
    "        d_movement_value = data_v2[folder][scn][mov]['value']\n",
    "\n",
    "        data_pp = {'dir':dir_total, \n",
    "                   'movement_label':d_movement_label, \n",
    "                   'movement_value':d_movement_value, \n",
    "                  }\n",
    "          \n",
    "        df_pull_push = df_pull_push.append(data_pp, ignore_index=True)\n",
    "print(\"Total files: \", count)\n"
   ]
  },
  {
   "cell_type": "code",
   "execution_count": null,
   "metadata": {},
   "outputs": [],
   "source": [
    "for i in data_v2:\n",
    "    print(i)"
   ]
  },
  {
   "cell_type": "code",
   "execution_count": 2,
   "metadata": {},
   "outputs": [
    {
     "data": {
      "text/plain": [
       "Push    530\n",
       "Pull     76\n",
       "Name: movement_label, dtype: int64"
      ]
     },
     "execution_count": 2,
     "metadata": {},
     "output_type": "execute_result"
    }
   ],
   "source": [
    "df_pull_push.movement_label.value_counts()"
   ]
  },
  {
   "cell_type": "code",
   "execution_count": 3,
   "metadata": {},
   "outputs": [],
   "source": [
    "import pandas as pd\n",
    "df_pull_push.to_csv('pull_push.csv', index=False)"
   ]
  },
  {
   "cell_type": "code",
   "execution_count": 7,
   "metadata": {},
   "outputs": [
    {
     "data": {
      "text/html": [
       "<div>\n",
       "<style scoped>\n",
       "    .dataframe tbody tr th:only-of-type {\n",
       "        vertical-align: middle;\n",
       "    }\n",
       "\n",
       "    .dataframe tbody tr th {\n",
       "        vertical-align: top;\n",
       "    }\n",
       "\n",
       "    .dataframe thead th {\n",
       "        text-align: right;\n",
       "    }\n",
       "</style>\n",
       "<table border=\"1\" class=\"dataframe\">\n",
       "  <thead>\n",
       "    <tr style=\"text-align: right;\">\n",
       "      <th></th>\n",
       "      <th>dir</th>\n",
       "      <th>movement_label</th>\n",
       "      <th>movement_value</th>\n",
       "    </tr>\n",
       "  </thead>\n",
       "  <tbody>\n",
       "    <tr>\n",
       "      <th>3</th>\n",
       "      <td>./../data/pull_push/tt1582196/shot_0106.mp4</td>\n",
       "      <td>Pull</td>\n",
       "      <td>2</td>\n",
       "    </tr>\n",
       "    <tr>\n",
       "      <th>7</th>\n",
       "      <td>./../data/pull_push/tt3458220/shot_0010.mp4</td>\n",
       "      <td>Pull</td>\n",
       "      <td>2</td>\n",
       "    </tr>\n",
       "    <tr>\n",
       "      <th>8</th>\n",
       "      <td>./../data/pull_push/tt5967998/shot_0034.mp4</td>\n",
       "      <td>Pull</td>\n",
       "      <td>2</td>\n",
       "    </tr>\n",
       "    <tr>\n",
       "      <th>11</th>\n",
       "      <td>./../data/pull_push/tt4886338/shot_0024.mp4</td>\n",
       "      <td>Pull</td>\n",
       "      <td>2</td>\n",
       "    </tr>\n",
       "    <tr>\n",
       "      <th>14</th>\n",
       "      <td>./../data/pull_push/tt2006810/shot_0023.mp4</td>\n",
       "      <td>Pull</td>\n",
       "      <td>2</td>\n",
       "    </tr>\n",
       "    <tr>\n",
       "      <th>...</th>\n",
       "      <td>...</td>\n",
       "      <td>...</td>\n",
       "      <td>...</td>\n",
       "    </tr>\n",
       "    <tr>\n",
       "      <th>546</th>\n",
       "      <td>./../data/pull_push/tt2078727/shot_0048.mp4</td>\n",
       "      <td>Pull</td>\n",
       "      <td>2</td>\n",
       "    </tr>\n",
       "    <tr>\n",
       "      <th>569</th>\n",
       "      <td>./../data/pull_push/tt0071615/shot_0028.mp4</td>\n",
       "      <td>Pull</td>\n",
       "      <td>2</td>\n",
       "    </tr>\n",
       "    <tr>\n",
       "      <th>570</th>\n",
       "      <td>./../data/pull_push/tt0071615/shot_0048.mp4</td>\n",
       "      <td>Pull</td>\n",
       "      <td>2</td>\n",
       "    </tr>\n",
       "    <tr>\n",
       "      <th>574</th>\n",
       "      <td>./../data/pull_push/tt0073000/shot_0003.mp4</td>\n",
       "      <td>Pull</td>\n",
       "      <td>2</td>\n",
       "    </tr>\n",
       "    <tr>\n",
       "      <th>589</th>\n",
       "      <td>./../data/pull_push/tt1941498/shot_0017.mp4</td>\n",
       "      <td>Pull</td>\n",
       "      <td>2</td>\n",
       "    </tr>\n",
       "  </tbody>\n",
       "</table>\n",
       "<p>76 rows × 3 columns</p>\n",
       "</div>"
      ],
      "text/plain": [
       "                                             dir movement_label movement_value\n",
       "3    ./../data/pull_push/tt1582196/shot_0106.mp4           Pull              2\n",
       "7    ./../data/pull_push/tt3458220/shot_0010.mp4           Pull              2\n",
       "8    ./../data/pull_push/tt5967998/shot_0034.mp4           Pull              2\n",
       "11   ./../data/pull_push/tt4886338/shot_0024.mp4           Pull              2\n",
       "14   ./../data/pull_push/tt2006810/shot_0023.mp4           Pull              2\n",
       "..                                           ...            ...            ...\n",
       "546  ./../data/pull_push/tt2078727/shot_0048.mp4           Pull              2\n",
       "569  ./../data/pull_push/tt0071615/shot_0028.mp4           Pull              2\n",
       "570  ./../data/pull_push/tt0071615/shot_0048.mp4           Pull              2\n",
       "574  ./../data/pull_push/tt0073000/shot_0003.mp4           Pull              2\n",
       "589  ./../data/pull_push/tt1941498/shot_0017.mp4           Pull              2\n",
       "\n",
       "[76 rows x 3 columns]"
      ]
     },
     "execution_count": 7,
     "metadata": {},
     "output_type": "execute_result"
    }
   ],
   "source": [
    "mkpp=df_pull_push['movement_label'] == 'Pull'\n",
    "\n",
    "df_pull_push[mkpp]"
   ]
  },
  {
   "cell_type": "code",
   "execution_count": 22,
   "metadata": {},
   "outputs": [
    {
     "data": {
      "text/html": [
       "<video src=\"./../data/pull_push/tt3087700/shot_0028.mp4\" controls  width=\"400\"  height=\"300\">\n",
       "      Your browser does not support the <code>video</code> element.\n",
       "    </video>"
      ],
      "text/plain": [
       "<IPython.core.display.Video object>"
      ]
     },
     "execution_count": 22,
     "metadata": {},
     "output_type": "execute_result"
    }
   ],
   "source": [
    "from IPython.display import Video\n",
    "Video('./../data/pull_push/tt3087700/shot_0028.mp4', width=400, height=300)"
   ]
  },
  {
   "cell_type": "code",
   "execution_count": 8,
   "metadata": {},
   "outputs": [
    {
     "data": {
      "text/html": [
       "<div>\n",
       "<style scoped>\n",
       "    .dataframe tbody tr th:only-of-type {\n",
       "        vertical-align: middle;\n",
       "    }\n",
       "\n",
       "    .dataframe tbody tr th {\n",
       "        vertical-align: top;\n",
       "    }\n",
       "\n",
       "    .dataframe thead th {\n",
       "        text-align: right;\n",
       "    }\n",
       "</style>\n",
       "<table border=\"1\" class=\"dataframe\">\n",
       "  <thead>\n",
       "    <tr style=\"text-align: right;\">\n",
       "      <th></th>\n",
       "      <th>dir</th>\n",
       "      <th>movement_label</th>\n",
       "      <th>movement_value</th>\n",
       "    </tr>\n",
       "  </thead>\n",
       "  <tbody>\n",
       "    <tr>\n",
       "      <th>0</th>\n",
       "      <td>./../data/pull_push/tt2136847/shot_0003.mp4</td>\n",
       "      <td>Push</td>\n",
       "      <td>3</td>\n",
       "    </tr>\n",
       "    <tr>\n",
       "      <th>1</th>\n",
       "      <td>./../data/pull_push/tt1542344/shot_0055.mp4</td>\n",
       "      <td>Push</td>\n",
       "      <td>3</td>\n",
       "    </tr>\n",
       "    <tr>\n",
       "      <th>2</th>\n",
       "      <td>./../data/pull_push/tt2344678/shot_0008.mp4</td>\n",
       "      <td>Push</td>\n",
       "      <td>3</td>\n",
       "    </tr>\n",
       "    <tr>\n",
       "      <th>4</th>\n",
       "      <td>./../data/pull_push/tt1827579/shot_0009.mp4</td>\n",
       "      <td>Push</td>\n",
       "      <td>3</td>\n",
       "    </tr>\n",
       "    <tr>\n",
       "      <th>5</th>\n",
       "      <td>./../data/pull_push/tt1872152/shot_0018.mp4</td>\n",
       "      <td>Push</td>\n",
       "      <td>3</td>\n",
       "    </tr>\n",
       "    <tr>\n",
       "      <th>...</th>\n",
       "      <td>...</td>\n",
       "      <td>...</td>\n",
       "      <td>...</td>\n",
       "    </tr>\n",
       "    <tr>\n",
       "      <th>601</th>\n",
       "      <td>./../data/pull_push/tt1156398/shot_0004.mp4</td>\n",
       "      <td>Push</td>\n",
       "      <td>3</td>\n",
       "    </tr>\n",
       "    <tr>\n",
       "      <th>602</th>\n",
       "      <td>./../data/pull_push/tt3292146/shot_0003.mp4</td>\n",
       "      <td>Push</td>\n",
       "      <td>3</td>\n",
       "    </tr>\n",
       "    <tr>\n",
       "      <th>603</th>\n",
       "      <td>./../data/pull_push/tt5157030/shot_0004.mp4</td>\n",
       "      <td>Push</td>\n",
       "      <td>3</td>\n",
       "    </tr>\n",
       "    <tr>\n",
       "      <th>604</th>\n",
       "      <td>./../data/pull_push/tt3087700/shot_0028.mp4</td>\n",
       "      <td>Push</td>\n",
       "      <td>3</td>\n",
       "    </tr>\n",
       "    <tr>\n",
       "      <th>605</th>\n",
       "      <td>./../data/pull_push/tt0351459/shot_0032.mp4</td>\n",
       "      <td>Push</td>\n",
       "      <td>3</td>\n",
       "    </tr>\n",
       "  </tbody>\n",
       "</table>\n",
       "<p>530 rows × 3 columns</p>\n",
       "</div>"
      ],
      "text/plain": [
       "                                             dir movement_label movement_value\n",
       "0    ./../data/pull_push/tt2136847/shot_0003.mp4           Push              3\n",
       "1    ./../data/pull_push/tt1542344/shot_0055.mp4           Push              3\n",
       "2    ./../data/pull_push/tt2344678/shot_0008.mp4           Push              3\n",
       "4    ./../data/pull_push/tt1827579/shot_0009.mp4           Push              3\n",
       "5    ./../data/pull_push/tt1872152/shot_0018.mp4           Push              3\n",
       "..                                           ...            ...            ...\n",
       "601  ./../data/pull_push/tt1156398/shot_0004.mp4           Push              3\n",
       "602  ./../data/pull_push/tt3292146/shot_0003.mp4           Push              3\n",
       "603  ./../data/pull_push/tt5157030/shot_0004.mp4           Push              3\n",
       "604  ./../data/pull_push/tt3087700/shot_0028.mp4           Push              3\n",
       "605  ./../data/pull_push/tt0351459/shot_0032.mp4           Push              3\n",
       "\n",
       "[530 rows x 3 columns]"
      ]
     },
     "execution_count": 8,
     "metadata": {},
     "output_type": "execute_result"
    }
   ],
   "source": [
    "mkpp=df_pull_push['movement_label'] == 'Push'\n",
    "\n",
    "df_pull_push[mkpp]"
   ]
  },
  {
   "cell_type": "markdown",
   "metadata": {},
   "source": [
    "From here we turn the pull_push file:"
   ]
  },
  {
   "cell_type": "code",
   "execution_count": 4,
   "metadata": {},
   "outputs": [
    {
     "data": {
      "text/html": [
       "<div>\n",
       "<style scoped>\n",
       "    .dataframe tbody tr th:only-of-type {\n",
       "        vertical-align: middle;\n",
       "    }\n",
       "\n",
       "    .dataframe tbody tr th {\n",
       "        vertical-align: top;\n",
       "    }\n",
       "\n",
       "    .dataframe thead th {\n",
       "        text-align: right;\n",
       "    }\n",
       "</style>\n",
       "<table border=\"1\" class=\"dataframe\">\n",
       "  <thead>\n",
       "    <tr style=\"text-align: right;\">\n",
       "      <th></th>\n",
       "      <th>dir</th>\n",
       "      <th>movement_label</th>\n",
       "      <th>movement_value</th>\n",
       "    </tr>\n",
       "  </thead>\n",
       "  <tbody>\n",
       "    <tr>\n",
       "      <th>0</th>\n",
       "      <td>./../data/pull_push/tt2136847/shot_0003.mp4</td>\n",
       "      <td>Push</td>\n",
       "      <td>3</td>\n",
       "    </tr>\n",
       "    <tr>\n",
       "      <th>1</th>\n",
       "      <td>./../data/pull_push/tt1542344/shot_0055.mp4</td>\n",
       "      <td>Push</td>\n",
       "      <td>3</td>\n",
       "    </tr>\n",
       "    <tr>\n",
       "      <th>2</th>\n",
       "      <td>./../data/pull_push/tt2344678/shot_0008.mp4</td>\n",
       "      <td>Push</td>\n",
       "      <td>3</td>\n",
       "    </tr>\n",
       "    <tr>\n",
       "      <th>3</th>\n",
       "      <td>./../data/pull_push/tt1582196/shot_0106.mp4</td>\n",
       "      <td>Pull</td>\n",
       "      <td>2</td>\n",
       "    </tr>\n",
       "    <tr>\n",
       "      <th>4</th>\n",
       "      <td>./../data/pull_push/tt1827579/shot_0009.mp4</td>\n",
       "      <td>Push</td>\n",
       "      <td>3</td>\n",
       "    </tr>\n",
       "    <tr>\n",
       "      <th>...</th>\n",
       "      <td>...</td>\n",
       "      <td>...</td>\n",
       "      <td>...</td>\n",
       "    </tr>\n",
       "    <tr>\n",
       "      <th>601</th>\n",
       "      <td>./../data/pull_push/tt1156398/shot_0004.mp4</td>\n",
       "      <td>Push</td>\n",
       "      <td>3</td>\n",
       "    </tr>\n",
       "    <tr>\n",
       "      <th>602</th>\n",
       "      <td>./../data/pull_push/tt3292146/shot_0003.mp4</td>\n",
       "      <td>Push</td>\n",
       "      <td>3</td>\n",
       "    </tr>\n",
       "    <tr>\n",
       "      <th>603</th>\n",
       "      <td>./../data/pull_push/tt5157030/shot_0004.mp4</td>\n",
       "      <td>Push</td>\n",
       "      <td>3</td>\n",
       "    </tr>\n",
       "    <tr>\n",
       "      <th>604</th>\n",
       "      <td>./../data/pull_push/tt3087700/shot_0028.mp4</td>\n",
       "      <td>Push</td>\n",
       "      <td>3</td>\n",
       "    </tr>\n",
       "    <tr>\n",
       "      <th>605</th>\n",
       "      <td>./../data/pull_push/tt0351459/shot_0032.mp4</td>\n",
       "      <td>Push</td>\n",
       "      <td>3</td>\n",
       "    </tr>\n",
       "  </tbody>\n",
       "</table>\n",
       "<p>606 rows × 3 columns</p>\n",
       "</div>"
      ],
      "text/plain": [
       "                                             dir movement_label movement_value\n",
       "0    ./../data/pull_push/tt2136847/shot_0003.mp4           Push              3\n",
       "1    ./../data/pull_push/tt1542344/shot_0055.mp4           Push              3\n",
       "2    ./../data/pull_push/tt2344678/shot_0008.mp4           Push              3\n",
       "3    ./../data/pull_push/tt1582196/shot_0106.mp4           Pull              2\n",
       "4    ./../data/pull_push/tt1827579/shot_0009.mp4           Push              3\n",
       "..                                           ...            ...            ...\n",
       "601  ./../data/pull_push/tt1156398/shot_0004.mp4           Push              3\n",
       "602  ./../data/pull_push/tt3292146/shot_0003.mp4           Push              3\n",
       "603  ./../data/pull_push/tt5157030/shot_0004.mp4           Push              3\n",
       "604  ./../data/pull_push/tt3087700/shot_0028.mp4           Push              3\n",
       "605  ./../data/pull_push/tt0351459/shot_0032.mp4           Push              3\n",
       "\n",
       "[606 rows x 3 columns]"
      ]
     },
     "execution_count": 4,
     "metadata": {},
     "output_type": "execute_result"
    }
   ],
   "source": [
    "df_pull_push"
   ]
  },
  {
   "cell_type": "code",
   "execution_count": 23,
   "metadata": {},
   "outputs": [],
   "source": [
    "entrada = open('pull_push2.csv','wt')\n",
    "\n",
    "\n",
    "for j in range(len(df_pull_push)):\n",
    "    dirr = str((df_pull_push['dir'][j])[0:19] + \"2 \"+ (df_pull_push['dir'][j])[19:43])\n",
    "    ml = str(df_pull_push['movement_label'][j])\n",
    "    mv = str(df_pull_push['movement_value'][j])\n",
    "    if ml == 'Pull':\n",
    "        entrada.write(dirr + \",\" + \"Push\" + \",\" + mv + \"\\n\")\n",
    "    if ml == 'Push':\n",
    "        entrada.write(dirr + \",\" + \"Pull\" + \",\" + mv + \"\\n\")\n",
    "\n",
    "entrada.close()"
   ]
  },
  {
   "cell_type": "code",
   "execution_count": 24,
   "metadata": {},
   "outputs": [
    {
     "data": {
      "text/html": [
       "<div>\n",
       "<style scoped>\n",
       "    .dataframe tbody tr th:only-of-type {\n",
       "        vertical-align: middle;\n",
       "    }\n",
       "\n",
       "    .dataframe tbody tr th {\n",
       "        vertical-align: top;\n",
       "    }\n",
       "\n",
       "    .dataframe thead th {\n",
       "        text-align: right;\n",
       "    }\n",
       "</style>\n",
       "<table border=\"1\" class=\"dataframe\">\n",
       "  <thead>\n",
       "    <tr style=\"text-align: right;\">\n",
       "      <th></th>\n",
       "      <th>dir</th>\n",
       "      <th>movement_label</th>\n",
       "      <th>movement_value</th>\n",
       "    </tr>\n",
       "  </thead>\n",
       "  <tbody>\n",
       "    <tr>\n",
       "      <th>0</th>\n",
       "      <td>./../data/pull_push2/tt2136847/shot_0003.mp4</td>\n",
       "      <td>Pull</td>\n",
       "      <td>3</td>\n",
       "    </tr>\n",
       "    <tr>\n",
       "      <th>1</th>\n",
       "      <td>./../data/pull_push2/tt1542344/shot_0055.mp4</td>\n",
       "      <td>Pull</td>\n",
       "      <td>3</td>\n",
       "    </tr>\n",
       "    <tr>\n",
       "      <th>2</th>\n",
       "      <td>./../data/pull_push2/tt2344678/shot_0008.mp4</td>\n",
       "      <td>Pull</td>\n",
       "      <td>3</td>\n",
       "    </tr>\n",
       "    <tr>\n",
       "      <th>3</th>\n",
       "      <td>./../data/pull_push2/tt1582196/shot_0106.mp4</td>\n",
       "      <td>Push</td>\n",
       "      <td>2</td>\n",
       "    </tr>\n",
       "    <tr>\n",
       "      <th>4</th>\n",
       "      <td>./../data/pull_push2/tt1827579/shot_0009.mp4</td>\n",
       "      <td>Pull</td>\n",
       "      <td>3</td>\n",
       "    </tr>\n",
       "    <tr>\n",
       "      <th>...</th>\n",
       "      <td>...</td>\n",
       "      <td>...</td>\n",
       "      <td>...</td>\n",
       "    </tr>\n",
       "    <tr>\n",
       "      <th>601</th>\n",
       "      <td>./../data/pull_push2/tt1156398/shot_0004.mp4</td>\n",
       "      <td>Pull</td>\n",
       "      <td>3</td>\n",
       "    </tr>\n",
       "    <tr>\n",
       "      <th>602</th>\n",
       "      <td>./../data/pull_push2/tt3292146/shot_0003.mp4</td>\n",
       "      <td>Pull</td>\n",
       "      <td>3</td>\n",
       "    </tr>\n",
       "    <tr>\n",
       "      <th>603</th>\n",
       "      <td>./../data/pull_push2/tt5157030/shot_0004.mp4</td>\n",
       "      <td>Pull</td>\n",
       "      <td>3</td>\n",
       "    </tr>\n",
       "    <tr>\n",
       "      <th>604</th>\n",
       "      <td>./../data/pull_push2/tt3087700/shot_0028.mp4</td>\n",
       "      <td>Pull</td>\n",
       "      <td>3</td>\n",
       "    </tr>\n",
       "    <tr>\n",
       "      <th>605</th>\n",
       "      <td>./../data/pull_push2/tt0351459/shot_0032.mp4</td>\n",
       "      <td>Pull</td>\n",
       "      <td>3</td>\n",
       "    </tr>\n",
       "  </tbody>\n",
       "</table>\n",
       "<p>606 rows × 3 columns</p>\n",
       "</div>"
      ],
      "text/plain": [
       "                                              dir movement_label  \\\n",
       "0    ./../data/pull_push2/tt2136847/shot_0003.mp4           Pull   \n",
       "1    ./../data/pull_push2/tt1542344/shot_0055.mp4           Pull   \n",
       "2    ./../data/pull_push2/tt2344678/shot_0008.mp4           Pull   \n",
       "3    ./../data/pull_push2/tt1582196/shot_0106.mp4           Push   \n",
       "4    ./../data/pull_push2/tt1827579/shot_0009.mp4           Pull   \n",
       "..                                            ...            ...   \n",
       "601  ./../data/pull_push2/tt1156398/shot_0004.mp4           Pull   \n",
       "602  ./../data/pull_push2/tt3292146/shot_0003.mp4           Pull   \n",
       "603  ./../data/pull_push2/tt5157030/shot_0004.mp4           Pull   \n",
       "604  ./../data/pull_push2/tt3087700/shot_0028.mp4           Pull   \n",
       "605  ./../data/pull_push2/tt0351459/shot_0032.mp4           Pull   \n",
       "\n",
       "     movement_value  \n",
       "0                 3  \n",
       "1                 3  \n",
       "2                 3  \n",
       "3                 2  \n",
       "4                 3  \n",
       "..              ...  \n",
       "601               3  \n",
       "602               3  \n",
       "603               3  \n",
       "604               3  \n",
       "605               3  \n",
       "\n",
       "[606 rows x 3 columns]"
      ]
     },
     "execution_count": 24,
     "metadata": {},
     "output_type": "execute_result"
    }
   ],
   "source": [
    "import pandas as pd\n",
    "\n",
    "dfs = pd.read_csv(\"pull_push2.csv\")\n",
    "\n",
    "dfs"
   ]
  },
  {
   "cell_type": "code",
   "execution_count": 28,
   "metadata": {},
   "outputs": [
    {
     "data": {
      "text/html": [
       "<div>\n",
       "<style scoped>\n",
       "    .dataframe tbody tr th:only-of-type {\n",
       "        vertical-align: middle;\n",
       "    }\n",
       "\n",
       "    .dataframe tbody tr th {\n",
       "        vertical-align: top;\n",
       "    }\n",
       "\n",
       "    .dataframe thead th {\n",
       "        text-align: right;\n",
       "    }\n",
       "</style>\n",
       "<table border=\"1\" class=\"dataframe\">\n",
       "  <thead>\n",
       "    <tr style=\"text-align: right;\">\n",
       "      <th></th>\n",
       "      <th>dir</th>\n",
       "      <th>movement_label</th>\n",
       "      <th>movement_value</th>\n",
       "    </tr>\n",
       "  </thead>\n",
       "  <tbody>\n",
       "    <tr>\n",
       "      <th>307</th>\n",
       "      <td>./../data/pull_push2/tt0071939/shot_0077.mp4</td>\n",
       "      <td>Pull</td>\n",
       "      <td>3</td>\n",
       "    </tr>\n",
       "  </tbody>\n",
       "</table>\n",
       "</div>"
      ],
      "text/plain": [
       "                                              dir movement_label  \\\n",
       "307  ./../data/pull_push2/tt0071939/shot_0077.mp4           Pull   \n",
       "\n",
       "     movement_value  \n",
       "307               3  "
      ]
     },
     "execution_count": 28,
     "metadata": {},
     "output_type": "execute_result"
    }
   ],
   "source": [
    "mkk=dfs['dir'] =='./../data/pull_push2/tt0071939/shot_0077.mp4'\n",
    "dfs[mkk]"
   ]
  }
 ],
 "metadata": {
  "kernelspec": {
   "display_name": "Python 3.8.8 ('base')",
   "language": "python",
   "name": "python3"
  },
  "language_info": {
   "codemirror_mode": {
    "name": "ipython",
    "version": 3
   },
   "file_extension": ".py",
   "mimetype": "text/x-python",
   "name": "python",
   "nbconvert_exporter": "python",
   "pygments_lexer": "ipython3",
   "version": "3.8.8"
  },
  "vscode": {
   "interpreter": {
    "hash": "c75407a027d59d8279fdc80f39ae7e88eaf5822626513196156b9ba3e7422158"
   }
  }
 },
 "nbformat": 4,
 "nbformat_minor": 2
}
